{
 "cells": [
  {
   "cell_type": "code",
   "execution_count": 162,
   "metadata": {},
   "outputs": [
    {
     "name": "stdout",
     "output_type": "stream",
     "text": [
      "[1, 2, 3, 4]\n",
      "50161\n"
     ]
    },
    {
     "ename": "AttributeError",
     "evalue": "'NoneType' object has no attribute 'group'",
     "output_type": "error",
     "traceback": [
      "\u001b[0;31m---------------------------------------------------------------------------\u001b[0m",
      "\u001b[0;31mAttributeError\u001b[0m                            Traceback (most recent call last)",
      "\u001b[0;32m<ipython-input-162-72e487895e79>\u001b[0m in \u001b[0;36m<module>\u001b[0;34m()\u001b[0m\n\u001b[1;32m     52\u001b[0m     \u001b[0;31m#m = re.search('(?<=abc)def', 'abcdef')\u001b[0m\u001b[0;34m\u001b[0m\u001b[0;34m\u001b[0m\u001b[0m\n\u001b[1;32m     53\u001b[0m \u001b[0;34m\u001b[0m\u001b[0m\n\u001b[0;32m---> 54\u001b[0;31m     \u001b[0mprint\u001b[0m\u001b[0;34m(\u001b[0m\u001b[0mm\u001b[0m\u001b[0;34m.\u001b[0m\u001b[0mgroup\u001b[0m\u001b[0;34m(\u001b[0m\u001b[0;36m0\u001b[0m\u001b[0;34m)\u001b[0m\u001b[0;34m)\u001b[0m\u001b[0;34m\u001b[0m\u001b[0m\n\u001b[0m\u001b[1;32m     55\u001b[0m     document = \"\"\"\n\u001b[1;32m     56\u001b[0m \u001b[0;32mimport\u001b[0m \u001b[0mjson\u001b[0m\u001b[0;34m\u001b[0m\u001b[0m\n",
      "\u001b[0;31mAttributeError\u001b[0m: 'NoneType' object has no attribute 'group'"
     ]
    }
   ],
   "source": [
    "import json\n",
    "from functools import partial\n",
    "from inspect import getsource\n",
    "from math import log\n",
    "from sys import argv\n",
    "from bisect import bisect_left\n",
    "import re\n",
    "\n",
    "if __name__ == '__main__':\n",
    "    map_in_name, script_name = '../cases/case1.json', 'test.py'\n",
    "    nf = '../input/case1_in.json'\n",
    "    nf = open(nf, 'r')\n",
    "    nf = json.load(nf)\n",
    "    keys, values = sorted(nf[0]), sorted(nf[1])\n",
    "    \n",
    "    map_in_file = open(map_in_name)\n",
    "    origin_mapping = json.load(map_in_file)\n",
    "    map_in_file.close()\n",
    "\n",
    "    mmm = sorted(list(origin_mapping.items()),key=lambda x: x[0])\n",
    "\n",
    "    k,v = zip(*mmm)\n",
    "    mm = sorted(zip(v,[ i for i in range(len(k)) ]),key=lambda x: x[0])\n",
    "    v, idx = zip(*mm)\n",
    "    idx = list(idx)\n",
    "    \n",
    "    mark = []\n",
    "    flag = False\n",
    "    temp = [ 0, 0, 0 ]\n",
    "    for i in range(len(k)):\n",
    "        if i != idx[i]:\n",
    "            if flag == False:\n",
    "                temp = [ i, idx[i], 1 ]\n",
    "                flag = True\n",
    "            elif flag == True and idx[i]-(temp[1]+temp[2]) == 0:\n",
    "                temp[2] += 1\n",
    "            elif flag == True:\n",
    "                mark += temp\n",
    "                temp = [ i, idx[i], 1 ]\n",
    "                flag = True\n",
    "        else:\n",
    "            if flag == True:\n",
    "                mark += temp\n",
    "                flag = False    \n",
    "    om = []\n",
    "    for i in range(0,len(mark),3):\n",
    "        om.append([mark[i:i+3]])\n",
    "    \n",
    "    mark_file = open('mark/'+re.search('case[0-9]+',str(map_in_file)).group(0)+'.mark', 'w')\n",
    "    mark_file.write(str(om))\n",
    "    mark_file.close()\n",
    "    document = \"\"\"\n",
    "import json\n",
    "import hashlib\n",
    "from sys import argv\n",
    "\n",
    "_m = {}\n",
    "nf, of = argv[1], argv[2]\n",
    "nf = open(nf, 'r')\n",
    "nf = json.load(nf)\n",
    "keys, values = sorted(nf[0]), sorted(nf[1])\n",
    "\n",
    "nm = {{}}\n",
    "for i in range(len(keys)):\n",
    "    nm[keys[i]] = values[i]\n",
    "for i in range(len(_m)):\n",
    "    for j in range(_m[i][2]):\n",
    "        nm[keys[_m[i][1]+j]] = values[_m[i][0]+j]\n",
    "of = open(of, 'w')\n",
    "of.write(json.dumps(nm))\n",
    "of.close()\n",
    "    \"\"\".format(str(mark))\n",
    "    script = open(script_name, 'w')\n",
    "    script.write(document)\n",
    "    script.close()"
   ]
  },
  {
   "cell_type": "code",
   "execution_count": null,
   "metadata": {},
   "outputs": [],
   "source": []
  }
 ],
 "metadata": {
  "kernelspec": {
   "display_name": "Python 3",
   "language": "python",
   "name": "python3"
  },
  "language_info": {
   "codemirror_mode": {
    "name": "ipython",
    "version": 3
   },
   "file_extension": ".py",
   "mimetype": "text/x-python",
   "name": "python",
   "nbconvert_exporter": "python",
   "pygments_lexer": "ipython3",
   "version": "3.6.4"
  }
 },
 "nbformat": 4,
 "nbformat_minor": 2
}
