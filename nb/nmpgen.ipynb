{
 "cells": [
  {
   "cell_type": "code",
   "execution_count": 127,
   "metadata": {},
   "outputs": [
    {
     "name": "stdout",
     "output_type": "stream",
     "text": [
      "9603\n"
     ]
    }
   ],
   "source": [
    "import json\n",
    "from functools import partial\n",
    "from inspect import getsource\n",
    "from math import log\n",
    "from sys import argv\n",
    "from bisect import bisect_left\n",
    "\n",
    "if __name__ == '__main__':\n",
    "    map_in_name, script_name = '../cases/case1.json', 'test.py'\n",
    "    nf = '../input/case1_in.json'\n",
    "    nf = open(nf, 'r')\n",
    "    nf = json.load(nf)\n",
    "    keys, values = sorted(nf[0]), sorted(nf[1])\n",
    "    \n",
    "    map_in_file = open(map_in_name)\n",
    "    origin_mapping = json.load(map_in_file)\n",
    "    map_in_file.close()\n",
    "\n",
    "    mmm = sorted(list(origin_mapping.items()),key=lambda x: x[0])\n",
    "\n",
    "    k,v = zip(*mmm)\n",
    "    mm = sorted(zip(v,[ i for i in range(len(k)) ]),key=lambda x: x[0])\n",
    "    v, idx = zip(*mm)\n",
    "    idx = list(idx)\n",
    "    \n",
    "    mark = []\n",
    "    temp = index, idx_start, count = 0, 0, 0 \n",
    "    flag = False\n",
    "    for i in range(1,len(k)):\n",
    "        if i != idx[i]:\n",
    "            if flag == False:\n",
    "                flag = True\n",
    "                index = i\n",
    "                idx_start = idx[i]\n",
    "            count +=1\n",
    "        else:\n",
    "            flag = False\n",
    "            mark.append(temp)\n",
    "    print(len(str(mark)))\n",
    "    document = \"\"\"\n",
    "import json\n",
    "import hashlib\n",
    "from sys import argv\n",
    "\n",
    "_m = {}\n",
    "nf, of = argv[1], argv[2]\n",
    "nf = open(nf, 'r')\n",
    "nf = json.load(nf)\n",
    "keys, values = sorted(nf[0]), sorted(nf[1])\n",
    "\n",
    "nm = {{}}\n",
    "for i in range(len(keys)):\n",
    "    nm[keys[_m[i]]] = values[i]\n",
    "of = open(of, 'w')\n",
    "of.write(json.dumps(nm))\n",
    "of.close()\n",
    "    \"\"\".format(str(mark))\n",
    "    script = open(script_name, 'w')\n",
    "    script.write(document)\n",
    "    script.close()"
   ]
  },
  {
   "cell_type": "code",
   "execution_count": null,
   "metadata": {},
   "outputs": [],
   "source": []
  }
 ],
 "metadata": {
  "kernelspec": {
   "display_name": "Python 3",
   "language": "python",
   "name": "python3"
  },
  "language_info": {
   "codemirror_mode": {
    "name": "ipython",
    "version": 3
   },
   "file_extension": ".py",
   "mimetype": "text/x-python",
   "name": "python",
   "nbconvert_exporter": "python",
   "pygments_lexer": "ipython3",
   "version": "3.6.4"
  }
 },
 "nbformat": 4,
 "nbformat_minor": 2
}
